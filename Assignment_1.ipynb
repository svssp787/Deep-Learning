{
  "cells": [
    {
      "cell_type": "markdown",
      "metadata": {
        "id": "view-in-github",
        "colab_type": "text"
      },
      "source": [
        "<a href=\"https://colab.research.google.com/github/Ruheena-S/cs6910_assignment1/blob/main/Assignment_1.ipynb\" target=\"_parent\"><img src=\"https://colab.research.google.com/assets/colab-badge.svg\" alt=\"Open In Colab\"/></a>"
      ]
    },
    {
      "cell_type": "code",
      "execution_count": null,
      "metadata": {
        "id": "ZuHPK1ZYd2rd",
        "colab": {
          "base_uri": "https://localhost:8080/",
          "height": 617,
          "referenced_widgets": [
            "ff47f7d5ccbe4743bb9c27de91bd02a3",
            "3228e0e22f54475993a90c12c6711412",
            "623a1b9c18204b6385c5537cdd37a1c5",
            "7c5798f304984fb5b993333f11631ec0",
            "f42048cb4ae0431f89a1d666612f0d40",
            "b3aff37ebe8942baa995c368e4f7e750",
            "cd51a2d7235a43bfa776a037bd281e8e",
            "1d6f03d9dce748edae6a1fe0d28b6ef9"
          ]
        },
        "outputId": "b7494123-8fa5-4c14-e6b5-a49858b62c04"
      },
      "outputs": [
        {
          "output_type": "stream",
          "name": "stdout",
          "text": [
            "Requirement already satisfied: wandb in /usr/local/lib/python3.7/dist-packages (0.12.10)\n",
            "Requirement already satisfied: six>=1.13.0 in /usr/local/lib/python3.7/dist-packages (from wandb) (1.15.0)\n",
            "Requirement already satisfied: GitPython>=1.0.0 in /usr/local/lib/python3.7/dist-packages (from wandb) (3.1.27)\n",
            "Requirement already satisfied: python-dateutil>=2.6.1 in /usr/local/lib/python3.7/dist-packages (from wandb) (2.8.2)\n",
            "Requirement already satisfied: yaspin>=1.0.0 in /usr/local/lib/python3.7/dist-packages (from wandb) (2.1.0)\n",
            "Requirement already satisfied: promise<3,>=2.0 in /usr/local/lib/python3.7/dist-packages (from wandb) (2.3)\n",
            "Requirement already satisfied: docker-pycreds>=0.4.0 in /usr/local/lib/python3.7/dist-packages (from wandb) (0.4.0)\n",
            "Requirement already satisfied: pathtools in /usr/local/lib/python3.7/dist-packages (from wandb) (0.1.2)\n",
            "Requirement already satisfied: sentry-sdk>=1.0.0 in /usr/local/lib/python3.7/dist-packages (from wandb) (1.5.6)\n",
            "Requirement already satisfied: protobuf>=3.12.0 in /usr/local/lib/python3.7/dist-packages (from wandb) (3.17.3)\n",
            "Requirement already satisfied: PyYAML in /usr/local/lib/python3.7/dist-packages (from wandb) (3.13)\n",
            "Requirement already satisfied: Click!=8.0.0,>=7.0 in /usr/local/lib/python3.7/dist-packages (from wandb) (7.1.2)\n",
            "Requirement already satisfied: requests<3,>=2.0.0 in /usr/local/lib/python3.7/dist-packages (from wandb) (2.23.0)\n",
            "Requirement already satisfied: shortuuid>=0.5.0 in /usr/local/lib/python3.7/dist-packages (from wandb) (1.0.8)\n",
            "Requirement already satisfied: psutil>=5.0.0 in /usr/local/lib/python3.7/dist-packages (from wandb) (5.4.8)\n",
            "Requirement already satisfied: typing-extensions>=3.7.4.3 in /usr/local/lib/python3.7/dist-packages (from GitPython>=1.0.0->wandb) (3.10.0.2)\n",
            "Requirement already satisfied: gitdb<5,>=4.0.1 in /usr/local/lib/python3.7/dist-packages (from GitPython>=1.0.0->wandb) (4.0.9)\n",
            "Requirement already satisfied: smmap<6,>=3.0.1 in /usr/local/lib/python3.7/dist-packages (from gitdb<5,>=4.0.1->GitPython>=1.0.0->wandb) (5.0.0)\n",
            "Requirement already satisfied: urllib3!=1.25.0,!=1.25.1,<1.26,>=1.21.1 in /usr/local/lib/python3.7/dist-packages (from requests<3,>=2.0.0->wandb) (1.24.3)\n",
            "Requirement already satisfied: idna<3,>=2.5 in /usr/local/lib/python3.7/dist-packages (from requests<3,>=2.0.0->wandb) (2.10)\n",
            "Requirement already satisfied: chardet<4,>=3.0.2 in /usr/local/lib/python3.7/dist-packages (from requests<3,>=2.0.0->wandb) (3.0.4)\n",
            "Requirement already satisfied: certifi>=2017.4.17 in /usr/local/lib/python3.7/dist-packages (from requests<3,>=2.0.0->wandb) (2021.10.8)\n",
            "Requirement already satisfied: termcolor<2.0.0,>=1.1.0 in /usr/local/lib/python3.7/dist-packages (from yaspin>=1.0.0->wandb) (1.1.0)\n"
          ]
        },
        {
          "output_type": "display_data",
          "data": {
            "text/html": [
              "Finishing last run (ID:1k80xz2w) before initializing another..."
            ],
            "text/plain": [
              "<IPython.core.display.HTML object>"
            ]
          },
          "metadata": {}
        },
        {
          "output_type": "display_data",
          "data": {
            "text/html": [
              "<br/>Waiting for W&B process to finish, PID 3389... <strong style=\"color:green\">(success).</strong>"
            ],
            "text/plain": [
              "<IPython.core.display.HTML object>"
            ]
          },
          "metadata": {}
        },
        {
          "output_type": "display_data",
          "data": {
            "application/vnd.jupyter.widget-view+json": {
              "model_id": "ff47f7d5ccbe4743bb9c27de91bd02a3",
              "version_minor": 0,
              "version_major": 2
            },
            "text/plain": [
              "VBox(children=(Label(value=' 0.01MB of 0.01MB uploaded (0.00MB deduped)\\r'), FloatProgress(value=1.0, max=1.0)…"
            ]
          },
          "metadata": {}
        },
        {
          "output_type": "display_data",
          "data": {
            "text/html": [
              "<style>\n",
              "    table.wandb td:nth-child(1) { padding: 0 10px; text-align: right }\n",
              "    .wandb-row { display: flex; flex-direction: row; flex-wrap: wrap; width: 100% }\n",
              "    .wandb-col { display: flex; flex-direction: column; flex-basis: 100%; flex: 1; padding: 10px; }\n",
              "    </style>\n",
              "<div class=\"wandb-row\"><div class=\"wandb-col\">\n",
              "</div><div class=\"wandb-col\">\n",
              "</div></div>\n",
              "Synced 5 W&B file(s), 10 media file(s), 0 artifact file(s) and 0 other file(s)\n",
              "<br/>Synced <strong style=\"color:#cdcd00\">astral-snowflake-2</strong>: <a href=\"https://wandb.ai/cs21m053-cs21m071/Assignment%201/runs/1k80xz2w\" target=\"_blank\">https://wandb.ai/cs21m053-cs21m071/Assignment%201/runs/1k80xz2w</a><br/>\n",
              "Find logs at: <code>./wandb/run-20220223_115800-1k80xz2w/logs</code><br/>\n"
            ],
            "text/plain": [
              "<IPython.core.display.HTML object>"
            ]
          },
          "metadata": {}
        },
        {
          "output_type": "display_data",
          "data": {
            "text/html": [
              "Successfully finished last run (ID:1k80xz2w). Initializing new run:<br/>"
            ],
            "text/plain": [
              "<IPython.core.display.HTML object>"
            ]
          },
          "metadata": {}
        },
        {
          "output_type": "display_data",
          "data": {
            "text/html": [
              "\n",
              "                    Syncing run <strong><a href=\"https://wandb.ai/cs21m053-cs21m071/Assignment%201/runs/21xpqx9l\" target=\"_blank\">curious-silence-3</a></strong> to <a href=\"https://wandb.ai/cs21m053-cs21m071/Assignment%201\" target=\"_blank\">Weights & Biases</a> (<a href=\"https://docs.wandb.com/integrations/jupyter.html\" target=\"_blank\">docs</a>).<br/>\n",
              "\n",
              "                "
            ],
            "text/plain": [
              "<IPython.core.display.HTML object>"
            ]
          },
          "metadata": {}
        },
        {
          "output_type": "execute_result",
          "data": {
            "text/plain": [
              "<wandb.sdk.wandb_run.Run at 0x7fac9bb421d0>"
            ],
            "text/html": [
              "<button onClick=\"this.nextSibling.style.display='block';this.style.display='none';\">Display W&B run</button><iframe src=\"https://wandb.ai/cs21m053-cs21m071/Assignment%201/runs/21xpqx9l?jupyter=true\" style=\"border:none;width:100%;height:420px;display:none;\"></iframe>"
            ]
          },
          "metadata": {},
          "execution_count": 353
        }
      ],
      "source": [
        "!pip install wandb\n",
        "import wandb\n",
        "wandb.init(project='Assignment 1', entity='cs21m053-cs21m071')\n"
      ]
    },
    {
      "cell_type": "code",
      "source": [
        "from keras.datasets import fashion_mnist\n",
        "import numpy as np"
      ],
      "metadata": {
        "id": "0KPF5mTVaJc0"
      },
      "execution_count": null,
      "outputs": []
    },
    {
      "cell_type": "code",
      "execution_count": null,
      "metadata": {
        "id": "KE8WoMZneYJ5"
      },
      "outputs": [],
      "source": [
        "((x_train,y_train),(x_test,y_test)) = fashion_mnist.load_data()"
      ]
    },
    {
      "cell_type": "code",
      "source": [
        "#displaying one image from each set\n",
        "\n",
        "imgs=[]\n",
        "for i in range(0,len(set(y_train))):\n",
        "  class_label=list(y_train).index(i)     #first appearance of each class label\n",
        "  imgs.append(wandb.Image(x_train[class_label]))\n",
        "          \n",
        "wandb.log({\"examples\": imgs})"
      ],
      "metadata": {
        "id": "JhffObwwaiZc"
      },
      "execution_count": null,
      "outputs": []
    },
    {
      "cell_type": "code",
      "execution_count": null,
      "metadata": {
        "id": "6nSTdDThfBOm"
      },
      "outputs": [],
      "source": [
        "\"\"\"\n",
        "A class to create an object of one layer along with parameters to specifiy:\n",
        "  input dimensions,\n",
        "  number of nodes,\n",
        "  activation function,\n",
        "\"\"\"\n",
        "class Layer:\n",
        "    \n",
        "    def __init__(self, inputDimension, noOfNodes, activation='',optimizer='standard',wtype = 'random'):\n",
        "\n",
        "        # Optimization Alogorithm for gradient Descent\n",
        "        if optimizer == 'standard':\n",
        "            self.optimizer = self.standard\n",
        "        elif optimizer == 'momentumGD':\n",
        "            self.optimizer = self.momentumGD\n",
        "        elif optimizer == 'rmsprop':\n",
        "            self.optimizer = self.rmsprop \n",
        "        elif optimizer == 'adam':\n",
        "            self.optimizer = self.adam\n",
        "        elif optimizer == 'sgd':\n",
        "            self.optimizer = self.sgd\n",
        "        elif optimizer == 'nadam':\n",
        "            self.optimizer = self.nadam\n",
        "        elif optimizer == 'nesterov':\n",
        "            self.optimizer = self.nesterov\n",
        "\n",
        "\n",
        "        # Activation Function for each layer\n",
        "        if activation == 'sigmoid':\n",
        "            self.activation = activation\n",
        "            self.activationForward = self.sigmoid\n",
        "            self.activationBackward = self.sigmoidGrad\n",
        "        elif activation == 'relu':\n",
        "            self.activation = activation\n",
        "            self.activationForward = self.relu\n",
        "            self.activationBackward = self.relugrad\n",
        "\n",
        "        elif activation == 'tanh':\n",
        "            self.activation = activation\n",
        "            self.activationForward = self.tanh\n",
        "            self.activationBackward = self.tanhgrad\n",
        "\n",
        "        else:\n",
        "            self.activation = 'softmax'\n",
        "            self.activationForward = self.softmax\n",
        "            self.activationBackward = self.softmaxGrad\n",
        "\n",
        "        self.weights, self.bias = self.initialize(inputDimension, noOfNodes,activation,wtype = wtype)\n",
        "        self.prevMW, self.prevMb = np.zeros([noOfNodes,inputDimension]),np.zeros([noOfNodes, 1])\n",
        "        self.prevVW, self.prevVb = np.zeros([noOfNodes,inputDimension]),np.zeros([noOfNodes, 1])\n",
        "        self.opt = optimizer\n",
        "\n",
        "        \n",
        "    \n",
        "    # Initialize the layer with some random weights and bias\n",
        "    def initialize(self, noOfInputFeatures, noOfNodes,activation,wtype):\n",
        "        np.random.seed(0)\n",
        "        #limit = np.sqrt(2/(noOfInputFeatures+noOfNodes))\n",
        "        if wtype == 'random':\n",
        "          weights = np.random.normal(0.0,0.5,size=(noOfNodes, noOfInputFeatures))\n",
        "          bias = np.ones([noOfNodes, 1])\n",
        "        \n",
        "        else:\n",
        "           weights = np.random.uniform(-(1/np.sqrt(noOfNodes)), (1/np.sqrt(noOfNodes)), size=(noOfNodes, noOfInputFeatures))\n",
        "           bias = np.ones([noOfNodes, 1])\n",
        "        return weights, bias\n",
        "\n",
        "    # Sigmoid activation function\n",
        "    def sigmoid(self, Z):\n",
        "        A = 1 / (1 + np.exp(-Z))\n",
        "        return A\n",
        "\n",
        "    # Differential of sigmoid function with chain rule applied\n",
        "    def sigmoidGrad(self, dA):\n",
        "        s = 1 / (1 + np.exp(-self.prevZ))\n",
        "        dZ = dA * s * (1 - s)\n",
        "        return dZ\n",
        "\n",
        "    #Tanh Activation Function\n",
        "    def tanh(self,Z):\n",
        "        return np.tanh(Z)\n",
        "\n",
        "    def tanhgrad(self,dA):\n",
        "        s = self.tanh(self.prevZ)\n",
        "        return dA*(1-(s**2))\n",
        "\n",
        "    #Relu Activation function\n",
        "    def relu(self,Z):\n",
        "        A = np.maximum(0,Z)\n",
        "        return A\n",
        "\n",
        "    def relugrad(self,dA):\n",
        "        s = np.maximum(0,self.prevZ)\n",
        "        t = 1. * dA * (s>0) \n",
        "        return t\n",
        "\n",
        "   \n",
        "\n",
        "    #SoftMax Activation Function\n",
        "    def softmax(self,Z):\n",
        "      expZ = np.exp(Z - np.max(Z))\n",
        "      A = expZ / expZ.sum(axis=0, keepdims=True)\n",
        "      return A\n",
        "\n",
        "    def softmaxGrad(self,dA):\n",
        "      return dA\n",
        "\n",
        "    \n",
        "\n",
        "\n",
        "    # Take's the input vector A and does the forward pass using weights and bias\n",
        "    def forward(self, A):\n",
        "\n",
        "      if self.opt != 'nesterov':\n",
        "        Z = np.dot(self.weights,A) +self.bias\n",
        "      else:\n",
        "        Z = np.dot(self.weights-0.9*self.prevVW, A) + (self.bias-0.9*self.prevVb)\n",
        "      self.prevZ = Z\n",
        "      self.prevA = A\n",
        "      A = self.activationForward(Z)\n",
        "      return A\n",
        "\n",
        "      \n",
        "    \n",
        "    # Take's the input vector derivative of A (dA) and does the backward pass\n",
        "    def backward(self, dA):\n",
        "        dZ = self.activationBackward(dA)\n",
        "        m = self.prevA.shape[1]\n",
        "        self.dW = 1 / m * np.dot(dZ, self.prevA.T) \n",
        "        self.db = 1 / m * np.sum(dZ, axis=1, keepdims=True)\n",
        "        prevdA = np.dot(self.weights.T, dA)\n",
        "        return prevdA\n",
        "\n",
        "    \n",
        "    # Update's the weights and bias with the passed learning_rate\n",
        "    def standard(self, learning_rate,t):\n",
        "        self.weights = self.weights - learning_rate * self.dW\n",
        "        self.bias = self.bias - learning_rate * self.db\n",
        "    \n",
        "    def momentumGD(self, learning_rate,t, moving_rate=0.9):\n",
        "        self.prevMW = moving_rate * self.prevMW + learning_rate * self.dW\n",
        "        self.prevMb = moving_rate * self.prevMb + learning_rate * self.db\n",
        "        self.weights = self.weights - self.prevMW\n",
        "        self.bias = self.bias - self.prevMb\n",
        "        \n",
        "\n",
        "    def rmsprop(self, learning_rate,t, moving_rate = 0.9):\n",
        "        self.prevVW = moving_rate * self.prevVW + (1-moving_rate) * (self.dW**2)\n",
        "        self.prevVb = moving_rate * self.prevVb + (1-moving_rate) * (self.db**2)\n",
        "        for i in self.prevVW:\n",
        "          i[i<0] = 1e-9\n",
        "        self.prevVb[self.prevVb<0] = 1e-9 \n",
        "        self.weights = self.weights - (learning_rate/np.sqrt(self.prevVW+(1e-8))) * self.dW\n",
        "        self.bias = self.bias - (learning_rate/np.sqrt(self.prevVb+(1e-8))) * self.db\n",
        "\n",
        "    def sgd(self, dA,t = 0):\n",
        "        dZ = self.activationBackward(dA)\n",
        "        prevdA = np.dot(self.weights.T, dZ)\n",
        "        m = self.prevA.shape[1]\n",
        "        for i in range(m):\n",
        "          self.dW = 1 / m * np.dot(dZ[:,i:i+1], self.prevA[:,i:i+1].T)   #arr[:,2]\n",
        "          self.db = 1 / m * (dZ[:,i:i+1])\n",
        "          self.weights = self.weights - (0.001 * self.dW)\n",
        "          self.bias = self.bias - (0.001 * self.db)\n",
        "        #prevdA = np.dot(self.weights.T, dZ)\n",
        "        return prevdA\n",
        "\n",
        "    def nesterov(self,learning_rate,moving_rate = 0.9,t = 0):\n",
        "        \n",
        "        self.prevVW = moving_rate * self.prevVW + learning_rate * self.dW\n",
        "        self.weights = self.weights - self.prevVW\n",
        "\n",
        "        self.bl = self.bias - moving_rate * self.prevVb\n",
        "        self.prevVb = moving_rate * self.prevVb\n",
        "\n",
        "    def adam(self,learning_rate ,t, beta1 = 0.9, beta2 = 0.999):\n",
        "        self.prevMW = beta1 * self.prevMW + (1-beta1)*self.dW\n",
        "        self.prevMb = beta1 * self.prevMb + (1-beta1)*self.db\n",
        "\n",
        "        self.prevVW = beta2 * self.prevVW + (1-beta2)*np.square(self.dW)\n",
        "        self.prevVb = beta2 * self.prevVb + (1-beta2)*np.square(self.db)\n",
        "\n",
        "        self.prevMWHat = self.prevMW/(1-beta1)\n",
        "        self.prevMbHat = self.prevMb/(1-beta1)\n",
        "\n",
        "        self.prevVWHat = self.prevVW/(1-beta2)\n",
        "        self.prevVbHat = self.prevVb/(1-beta2)\n",
        "\n",
        "        self.weights = self.weights - learning_rate * np.divide(self.prevMWHat,np.sqrt(self.prevVWHat+(1e-8)))\n",
        "        self.bias = self.bias - learning_rate * np.divide(self.prevMbHat,np.sqrt(self.prevVbHat+(1e-8)))\n",
        "        \n",
        "    def nadam(self,learning_rate ,t, beta1 = 0.9, beta2 = 0.999):\n",
        "        self.prevMW = beta1 * self.prevMW + (1-beta1)*self.dW\n",
        "        self.prevMb = beta1 * self.prevMb + (1-beta1)*self.db\n",
        "\n",
        "        self.prevVW = beta2 * self.prevVW + (1-beta2)*np.square(self.dW)\n",
        "        self.prevVb = beta2 * self.prevVb + (1-beta2)*np.square(self.db)\n",
        "\n",
        "        self.prevMWHat = (beta1 * self.prevMW / (1-beta1)) + self.dW\n",
        "        self.prevMbHat = (beta1 * self.prevMb / (1-beta1)) + self.db\n",
        "\n",
        "        self.prevVWHat = (beta2 * self.prevVW) / (1-beta2)\n",
        "        self.prevVbHat = (beta2 * self.prevVb) / (1-beta2)\n",
        "\n",
        "        self.weights = self.weights - learning_rate * np.divide(self.prevMWHat,np.sqrt(self.prevVWHat+(1e-8)))\n",
        "        self.bias = self.bias - learning_rate * np.divide(self.prevMbHat,np.sqrt(self.prevVbHat+(1e-8)))\n",
        "        \n",
        "\n"
      ]
    },
    {
      "cell_type": "code",
      "execution_count": null,
      "metadata": {
        "id": "7WCA0ktbfHrZ"
      },
      "outputs": [],
      "source": [
        "\"\"\"\n",
        "Neural Network which keeps consists of all layers and some helper functions\n",
        "\"\"\"\n",
        "\n",
        "class NeuralNetwork:\n",
        "    \n",
        "    def __init__(self, layers_size,epochs,learning_rate, optimizer = 'standard', activation = 'sigmoid',wtype = 'random', loss='cross_entropy'):\n",
        "        self.layers=[]\n",
        "        self.layers_size = layers_size\n",
        "        self.optimizer = optimizer\n",
        "        self.activation = activation\n",
        "        self.wtype = wtype\n",
        "        self.epochs = epochs\n",
        "        self.learning_rate = learning_rate\n",
        "        if loss=='cross_entropy':\n",
        "            self.lossFunction = self.cross_entropy\n",
        "            self.lossBackward = self.cross_entropy_Grad\n",
        "        elif loss == 'mean_square':\n",
        "            self.lossFunction = self.meanSquareError\n",
        "            self.lossBackward = self.meanSquareErrorGrad\n",
        "        else:\n",
        "            print('Invalid loss function')\n",
        "        self.loss=loss\n",
        "\n",
        "    # add layer to the NN with input dimensions, nodes & activation function\n",
        "    def addLayer(self, inputDimension=None, noOfNodes=1, activation='',wtype = 'random'):\n",
        "        if (inputDimension is None):\n",
        "            if (len(self.layers) == 0):\n",
        "                print('Invalid number of layers')\n",
        "            inputDimension = self.layers[-1].outputDimension()\n",
        "        layer = Layer(inputDimension, noOfNodes, activation,optimizer = self.optimizer, wtype=wtype)\n",
        "        self.layers.append(layer)\n",
        "\n",
        "    def meanSquareError(self, Y, A):\n",
        "        loss = np.square(Y - A)\n",
        "        m = Y.shape[1]\n",
        "        cost = 1 / m * np.sum(loss)\n",
        "        return np.squeeze(cost)\n",
        "    \n",
        "    # Compute's mean square grad error, Y is true value & A is predicted value\n",
        "    def meanSquareErrorGrad(self, Y, A):\n",
        "        dA = -2 * (Y - A)\n",
        "        return dA\n",
        "\n",
        "    # Compute's cro error where Y is true value and A is predicted value\n",
        "    def cross_entropy(self, Y, A):\n",
        "        m = Y.shape[1]\n",
        "        cost = -(1/m)*np.sum(Y*np.log(A))\n",
        "        return np.squeeze(cost)\n",
        "    \n",
        "    # Compute's mean square grad error, Y is true value & A is predicted value\n",
        "    def cross_entropy_Grad(self, Y, A):\n",
        "        dA = A-Y\n",
        "        return dA\n",
        "\n",
        "    # Wrapper function to get the cost or loss value of the predicted values\n",
        "    def cost(self, Y, A):\n",
        "        return self.lossFunction(Y, A)\n",
        "\n",
        "    # Forward pass the input vector X through all layers\n",
        "    def forward(self, X):\n",
        "        x = np.copy(X)\n",
        "        for layer in self.layers:\n",
        "            x = layer.forward(x)\n",
        "        return x\n",
        "            \n",
        "    # Backward pass the true values and predicted values in reverse direction\n",
        "    def backward(self, Y, A):\n",
        "        dA = self.lossBackward(Y, A)\n",
        "        for layer in reversed(self.layers):\n",
        "            dA = layer.sgd(dA)\n",
        "    \n",
        "    # Update weights and compute's gradient descent of all layers\n",
        "    def update(self, learning_rate=0.01,t=0):\n",
        "        for layer in self.layers:\n",
        "            layer.optimizer(learning_rate,t=0)\n",
        "\n",
        "    def fit(self,x,y,batch_size = 32):\n",
        "\n",
        "        if self.activation=='relu':\n",
        "          self.wtype = 'xavier'\n",
        "        \n",
        "        for i in range(1,len(self.layers_size)-1):\n",
        "          self.addLayer(inputDimension=self.layers_size[i-1], noOfNodes=self.layers_size[i], activation=self.activation, wtype = self.wtype)\n",
        "\n",
        "        \n",
        "        # Output layer with softmax activation\n",
        "        self.addLayer(inputDimension=self.layers_size[-2], noOfNodes=self.layers_size[-1], activation='softmax', wtype = self.wtype)\n",
        "\n",
        "        y_hot = np.zeros([len(set(y)),len(y)])\n",
        "\n",
        "        for i in range(y_hot.shape[1]):\n",
        "          y_hot[y[i]][i] = 1\n",
        "\n",
        "        for i in range(self.epochs):\n",
        "          \n",
        "          acc =0\n",
        "          cross_entropy= 0\n",
        "          \n",
        "          for j in range(0,x.shape[0],batch_size):\n",
        "            \n",
        "            xb = x[j:j+batch_size]\n",
        "            yb = y[j:j+batch_size]\n",
        "            y_hotb = y_hot[:,j:j+batch_size]\n",
        "            xb = xb.reshape(xb.shape[0],xb.shape[1]*xb.shape[2]).T\n",
        "            xb = xb-np.min(xb)/np.max(xb)-np.min(xb)\n",
        "\n",
        "\n",
        "            #Neural Network Running\n",
        "            if self.activation == 'sgd':\n",
        "              A = self.forward(xb)\n",
        "              self.sgd(y_hotb,A)\n",
        "            else:\n",
        "              A = self.forward(xb)\n",
        "              self.backward(y_hotb,A)\n",
        "              self.update(learning_rate=self.learning_rate,t= i+1)\n",
        "\n",
        "\n",
        "            #Calculating Cross Entropy and Accuracy\n",
        "            y_pred = np.argmax(A,axis = 0)\n",
        "            acc += (yb == y_pred).sum()\n",
        "            cross_entropy += -(y_hotb * np.log(A)).sum()\n",
        "           \n",
        "          \n",
        "          print(\"After \",i+1,\"iterations:\")\n",
        "          print(\"cross entropy:\",cross_entropy/len(y))\n",
        "          print(\"accuracy:\",acc/len(y))\n",
        "\n",
        "    def predict(self,x):\n",
        "        x = x.reshape(x.shape[0],x.shape[1]*x.shape[2]).T\n",
        "        A = self.forward(x)\n",
        "        A = np.argmax(A,axis=0)\n",
        "        return A\n"
      ]
    },
    {
      "cell_type": "code",
      "source": [
        "np.random.seed(1)\n",
        "model = NeuralNetwork(layers_size = [784,128,128,128,10],epochs = 5,learning_rate = 0.001,loss='cross_entropy',activation = 'tanh', optimizer = 'adam', wtype='random' )\n",
        "\n",
        "\n",
        "from sklearn.model_selection import train_test_split\n",
        "x_train,x_val,y_train,y_val = train_test_split(x_train,y_train,train_size = 0.9, test_size = 0.1, random_state=10)\n",
        "y_pred = model.fit(x_train,y_train)"
      ],
      "metadata": {
        "colab": {
          "base_uri": "https://localhost:8080/"
        },
        "id": "arLAwRYtYzJY",
        "outputId": "7e585f2e-91c8-40f3-a903-37d99e821b02"
      },
      "execution_count": null,
      "outputs": [
        {
          "output_type": "stream",
          "name": "stdout",
          "text": [
            "After  1 iterations:\n",
            "cross entropy: 2.779761370732822\n",
            "accuracy: 0.3657222222222222\n"
          ]
        }
      ]
    },
    {
      "cell_type": "code",
      "source": [
        "y_p = model.predict(x_test)\n",
        "print((y_p == y_test).mean()*100)\n",
        "print(y_p)"
      ],
      "metadata": {
        "id": "mELK77lAhENt"
      },
      "execution_count": null,
      "outputs": []
    }
  ],
  "metadata": {
    "colab": {
      "collapsed_sections": [],
      "name": "Assignment 1.ipynb",
      "provenance": [],
      "include_colab_link": true
    },
    "kernelspec": {
      "display_name": "Python 3",
      "name": "python3"
    },
    "language_info": {
      "name": "python"
    },
    "widgets": {
      "application/vnd.jupyter.widget-state+json": {
        "ff47f7d5ccbe4743bb9c27de91bd02a3": {
          "model_module": "@jupyter-widgets/controls",
          "model_name": "VBoxModel",
          "model_module_version": "1.5.0",
          "state": {
            "_view_name": "VBoxView",
            "_dom_classes": [],
            "_model_name": "VBoxModel",
            "_view_module": "@jupyter-widgets/controls",
            "_model_module_version": "1.5.0",
            "_view_count": null,
            "_view_module_version": "1.5.0",
            "box_style": "",
            "layout": "IPY_MODEL_3228e0e22f54475993a90c12c6711412",
            "_model_module": "@jupyter-widgets/controls",
            "children": [
              "IPY_MODEL_623a1b9c18204b6385c5537cdd37a1c5",
              "IPY_MODEL_7c5798f304984fb5b993333f11631ec0"
            ]
          }
        },
        "3228e0e22f54475993a90c12c6711412": {
          "model_module": "@jupyter-widgets/base",
          "model_name": "LayoutModel",
          "model_module_version": "1.2.0",
          "state": {
            "_view_name": "LayoutView",
            "grid_template_rows": null,
            "right": null,
            "justify_content": null,
            "_view_module": "@jupyter-widgets/base",
            "overflow": null,
            "_model_module_version": "1.2.0",
            "_view_count": null,
            "flex_flow": null,
            "width": null,
            "min_width": null,
            "border": null,
            "align_items": null,
            "bottom": null,
            "_model_module": "@jupyter-widgets/base",
            "top": null,
            "grid_column": null,
            "overflow_y": null,
            "overflow_x": null,
            "grid_auto_flow": null,
            "grid_area": null,
            "grid_template_columns": null,
            "flex": null,
            "_model_name": "LayoutModel",
            "justify_items": null,
            "grid_row": null,
            "max_height": null,
            "align_content": null,
            "visibility": null,
            "align_self": null,
            "height": null,
            "min_height": null,
            "padding": null,
            "grid_auto_rows": null,
            "grid_gap": null,
            "max_width": null,
            "order": null,
            "_view_module_version": "1.2.0",
            "grid_template_areas": null,
            "object_position": null,
            "object_fit": null,
            "grid_auto_columns": null,
            "margin": null,
            "display": null,
            "left": null
          }
        },
        "623a1b9c18204b6385c5537cdd37a1c5": {
          "model_module": "@jupyter-widgets/controls",
          "model_name": "LabelModel",
          "model_module_version": "1.5.0",
          "state": {
            "_view_name": "LabelView",
            "style": "IPY_MODEL_f42048cb4ae0431f89a1d666612f0d40",
            "_dom_classes": [],
            "description": "",
            "_model_name": "LabelModel",
            "placeholder": "​",
            "_view_module": "@jupyter-widgets/controls",
            "_model_module_version": "1.5.0",
            "value": " 0.02MB of 0.02MB uploaded (0.00MB deduped)\r",
            "_view_count": null,
            "_view_module_version": "1.5.0",
            "description_tooltip": null,
            "_model_module": "@jupyter-widgets/controls",
            "layout": "IPY_MODEL_b3aff37ebe8942baa995c368e4f7e750"
          }
        },
        "7c5798f304984fb5b993333f11631ec0": {
          "model_module": "@jupyter-widgets/controls",
          "model_name": "FloatProgressModel",
          "model_module_version": "1.5.0",
          "state": {
            "_view_name": "ProgressView",
            "style": "IPY_MODEL_cd51a2d7235a43bfa776a037bd281e8e",
            "_dom_classes": [],
            "description": "",
            "_model_name": "FloatProgressModel",
            "bar_style": "",
            "max": 1,
            "_view_module": "@jupyter-widgets/controls",
            "_model_module_version": "1.5.0",
            "value": 1,
            "_view_count": null,
            "_view_module_version": "1.5.0",
            "orientation": "horizontal",
            "min": 0,
            "description_tooltip": null,
            "_model_module": "@jupyter-widgets/controls",
            "layout": "IPY_MODEL_1d6f03d9dce748edae6a1fe0d28b6ef9"
          }
        },
        "f42048cb4ae0431f89a1d666612f0d40": {
          "model_module": "@jupyter-widgets/controls",
          "model_name": "DescriptionStyleModel",
          "model_module_version": "1.5.0",
          "state": {
            "_view_name": "StyleView",
            "_model_name": "DescriptionStyleModel",
            "description_width": "",
            "_view_module": "@jupyter-widgets/base",
            "_model_module_version": "1.5.0",
            "_view_count": null,
            "_view_module_version": "1.2.0",
            "_model_module": "@jupyter-widgets/controls"
          }
        },
        "b3aff37ebe8942baa995c368e4f7e750": {
          "model_module": "@jupyter-widgets/base",
          "model_name": "LayoutModel",
          "model_module_version": "1.2.0",
          "state": {
            "_view_name": "LayoutView",
            "grid_template_rows": null,
            "right": null,
            "justify_content": null,
            "_view_module": "@jupyter-widgets/base",
            "overflow": null,
            "_model_module_version": "1.2.0",
            "_view_count": null,
            "flex_flow": null,
            "width": null,
            "min_width": null,
            "border": null,
            "align_items": null,
            "bottom": null,
            "_model_module": "@jupyter-widgets/base",
            "top": null,
            "grid_column": null,
            "overflow_y": null,
            "overflow_x": null,
            "grid_auto_flow": null,
            "grid_area": null,
            "grid_template_columns": null,
            "flex": null,
            "_model_name": "LayoutModel",
            "justify_items": null,
            "grid_row": null,
            "max_height": null,
            "align_content": null,
            "visibility": null,
            "align_self": null,
            "height": null,
            "min_height": null,
            "padding": null,
            "grid_auto_rows": null,
            "grid_gap": null,
            "max_width": null,
            "order": null,
            "_view_module_version": "1.2.0",
            "grid_template_areas": null,
            "object_position": null,
            "object_fit": null,
            "grid_auto_columns": null,
            "margin": null,
            "display": null,
            "left": null
          }
        },
        "cd51a2d7235a43bfa776a037bd281e8e": {
          "model_module": "@jupyter-widgets/controls",
          "model_name": "ProgressStyleModel",
          "model_module_version": "1.5.0",
          "state": {
            "_view_name": "StyleView",
            "_model_name": "ProgressStyleModel",
            "description_width": "",
            "_view_module": "@jupyter-widgets/base",
            "_model_module_version": "1.5.0",
            "_view_count": null,
            "_view_module_version": "1.2.0",
            "bar_color": null,
            "_model_module": "@jupyter-widgets/controls"
          }
        },
        "1d6f03d9dce748edae6a1fe0d28b6ef9": {
          "model_module": "@jupyter-widgets/base",
          "model_name": "LayoutModel",
          "model_module_version": "1.2.0",
          "state": {
            "_view_name": "LayoutView",
            "grid_template_rows": null,
            "right": null,
            "justify_content": null,
            "_view_module": "@jupyter-widgets/base",
            "overflow": null,
            "_model_module_version": "1.2.0",
            "_view_count": null,
            "flex_flow": null,
            "width": null,
            "min_width": null,
            "border": null,
            "align_items": null,
            "bottom": null,
            "_model_module": "@jupyter-widgets/base",
            "top": null,
            "grid_column": null,
            "overflow_y": null,
            "overflow_x": null,
            "grid_auto_flow": null,
            "grid_area": null,
            "grid_template_columns": null,
            "flex": null,
            "_model_name": "LayoutModel",
            "justify_items": null,
            "grid_row": null,
            "max_height": null,
            "align_content": null,
            "visibility": null,
            "align_self": null,
            "height": null,
            "min_height": null,
            "padding": null,
            "grid_auto_rows": null,
            "grid_gap": null,
            "max_width": null,
            "order": null,
            "_view_module_version": "1.2.0",
            "grid_template_areas": null,
            "object_position": null,
            "object_fit": null,
            "grid_auto_columns": null,
            "margin": null,
            "display": null,
            "left": null
          }
        }
      }
    }
  },
  "nbformat": 4,
  "nbformat_minor": 0
}